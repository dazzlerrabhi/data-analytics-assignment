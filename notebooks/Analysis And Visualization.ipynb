{
 "cells": [
  {
   "cell_type": "markdown",
   "id": "5a325497",
   "metadata": {},
   "source": [
    "# Analysis And Visualization"
   ]
  },
  {
   "cell_type": "code",
   "execution_count": 1,
   "id": "b1919e6f",
   "metadata": {},
   "outputs": [],
   "source": [
    "import pandas as pd\n",
    "import matplotlib.pyplot as plt\n",
    "import seaborn as sns\n",
    "\n",
    "import warnings\n",
    "warnings.filterwarnings('ignore')"
   ]
  },
  {
   "cell_type": "code",
   "execution_count": 2,
   "id": "ebc31861",
   "metadata": {},
   "outputs": [
    {
     "data": {
      "text/html": [
       "<div>\n",
       "<style scoped>\n",
       "    .dataframe tbody tr th:only-of-type {\n",
       "        vertical-align: middle;\n",
       "    }\n",
       "\n",
       "    .dataframe tbody tr th {\n",
       "        vertical-align: top;\n",
       "    }\n",
       "\n",
       "    .dataframe thead th {\n",
       "        text-align: right;\n",
       "    }\n",
       "</style>\n",
       "<table border=\"1\" class=\"dataframe\">\n",
       "  <thead>\n",
       "    <tr style=\"text-align: right;\">\n",
       "      <th></th>\n",
       "      <th>Session ID</th>\n",
       "      <th>User ID</th>\n",
       "      <th>Dish Name</th>\n",
       "      <th>Meal Type</th>\n",
       "      <th>Session Start</th>\n",
       "      <th>Session End</th>\n",
       "      <th>Duration (mins)</th>\n",
       "      <th>Session Rating</th>\n",
       "      <th>User Name</th>\n",
       "      <th>Age</th>\n",
       "      <th>...</th>\n",
       "      <th>Phone</th>\n",
       "      <th>Email</th>\n",
       "      <th>Favorite Meal</th>\n",
       "      <th>Total Orders</th>\n",
       "      <th>Order ID</th>\n",
       "      <th>Order Date</th>\n",
       "      <th>Order Status</th>\n",
       "      <th>Amount (USD)</th>\n",
       "      <th>Time of Day</th>\n",
       "      <th>Rating</th>\n",
       "    </tr>\n",
       "  </thead>\n",
       "  <tbody>\n",
       "    <tr>\n",
       "      <th>0</th>\n",
       "      <td>S001</td>\n",
       "      <td>U001</td>\n",
       "      <td>Spaghetti</td>\n",
       "      <td>Dinner</td>\n",
       "      <td>2024-12-01 19:00:00</td>\n",
       "      <td>2024-12-01 19:30:00</td>\n",
       "      <td>30</td>\n",
       "      <td>4.5</td>\n",
       "      <td>Alice Johnson</td>\n",
       "      <td>28</td>\n",
       "      <td>...</td>\n",
       "      <td>123-456-7890</td>\n",
       "      <td>alice@email.com</td>\n",
       "      <td>Dinner</td>\n",
       "      <td>12</td>\n",
       "      <td>1001</td>\n",
       "      <td>2024-12-01</td>\n",
       "      <td>Completed</td>\n",
       "      <td>15.0</td>\n",
       "      <td>Night</td>\n",
       "      <td>5.000000</td>\n",
       "    </tr>\n",
       "    <tr>\n",
       "      <th>1</th>\n",
       "      <td>S002</td>\n",
       "      <td>U002</td>\n",
       "      <td>Caesar Salad</td>\n",
       "      <td>Lunch</td>\n",
       "      <td>2024-12-01 12:00:00</td>\n",
       "      <td>2024-12-01 12:20:00</td>\n",
       "      <td>20</td>\n",
       "      <td>4.0</td>\n",
       "      <td>Bob Smith</td>\n",
       "      <td>35</td>\n",
       "      <td>...</td>\n",
       "      <td>987-654-3210</td>\n",
       "      <td>bob@email.com</td>\n",
       "      <td>Lunch</td>\n",
       "      <td>8</td>\n",
       "      <td>1002</td>\n",
       "      <td>2024-12-01</td>\n",
       "      <td>Completed</td>\n",
       "      <td>10.0</td>\n",
       "      <td>Day</td>\n",
       "      <td>4.000000</td>\n",
       "    </tr>\n",
       "    <tr>\n",
       "      <th>2</th>\n",
       "      <td>S003</td>\n",
       "      <td>U003</td>\n",
       "      <td>Grilled Chicken</td>\n",
       "      <td>Dinner</td>\n",
       "      <td>2024-12-02 19:30:00</td>\n",
       "      <td>2024-12-02 20:10:00</td>\n",
       "      <td>40</td>\n",
       "      <td>4.8</td>\n",
       "      <td>Charlie Lee</td>\n",
       "      <td>42</td>\n",
       "      <td>...</td>\n",
       "      <td>555-123-4567</td>\n",
       "      <td>charlie@email.com</td>\n",
       "      <td>Breakfast</td>\n",
       "      <td>15</td>\n",
       "      <td>1003</td>\n",
       "      <td>2024-12-02</td>\n",
       "      <td>Canceled</td>\n",
       "      <td>12.5</td>\n",
       "      <td>Night</td>\n",
       "      <td>4.285714</td>\n",
       "    </tr>\n",
       "    <tr>\n",
       "      <th>3</th>\n",
       "      <td>S004</td>\n",
       "      <td>U001</td>\n",
       "      <td>Pancakes</td>\n",
       "      <td>Breakfast</td>\n",
       "      <td>2024-12-02 07:30:00</td>\n",
       "      <td>2024-12-02 08:00:00</td>\n",
       "      <td>30</td>\n",
       "      <td>4.2</td>\n",
       "      <td>Alice Johnson</td>\n",
       "      <td>28</td>\n",
       "      <td>...</td>\n",
       "      <td>123-456-7890</td>\n",
       "      <td>alice@email.com</td>\n",
       "      <td>Dinner</td>\n",
       "      <td>12</td>\n",
       "      <td>1004</td>\n",
       "      <td>2024-12-02</td>\n",
       "      <td>Completed</td>\n",
       "      <td>8.0</td>\n",
       "      <td>Morning</td>\n",
       "      <td>4.000000</td>\n",
       "    </tr>\n",
       "    <tr>\n",
       "      <th>4</th>\n",
       "      <td>S005</td>\n",
       "      <td>U004</td>\n",
       "      <td>Caesar Salad</td>\n",
       "      <td>Lunch</td>\n",
       "      <td>2024-12-03 13:00:00</td>\n",
       "      <td>2024-12-03 13:15:00</td>\n",
       "      <td>15</td>\n",
       "      <td>4.7</td>\n",
       "      <td>David Brown</td>\n",
       "      <td>27</td>\n",
       "      <td>...</td>\n",
       "      <td>444-333-2222</td>\n",
       "      <td>david@email.com</td>\n",
       "      <td>Dinner</td>\n",
       "      <td>10</td>\n",
       "      <td>1005</td>\n",
       "      <td>2024-12-03</td>\n",
       "      <td>Completed</td>\n",
       "      <td>9.0</td>\n",
       "      <td>Day</td>\n",
       "      <td>4.000000</td>\n",
       "    </tr>\n",
       "  </tbody>\n",
       "</table>\n",
       "<p>5 rows × 22 columns</p>\n",
       "</div>"
      ],
      "text/plain": [
       "  Session ID User ID        Dish Name  Meal Type        Session Start  \\\n",
       "0       S001    U001        Spaghetti     Dinner  2024-12-01 19:00:00   \n",
       "1       S002    U002     Caesar Salad      Lunch  2024-12-01 12:00:00   \n",
       "2       S003    U003  Grilled Chicken     Dinner  2024-12-02 19:30:00   \n",
       "3       S004    U001         Pancakes  Breakfast  2024-12-02 07:30:00   \n",
       "4       S005    U004     Caesar Salad      Lunch  2024-12-03 13:00:00   \n",
       "\n",
       "           Session End  Duration (mins)  Session Rating      User Name  Age  \\\n",
       "0  2024-12-01 19:30:00               30             4.5  Alice Johnson   28   \n",
       "1  2024-12-01 12:20:00               20             4.0      Bob Smith   35   \n",
       "2  2024-12-02 20:10:00               40             4.8    Charlie Lee   42   \n",
       "3  2024-12-02 08:00:00               30             4.2  Alice Johnson   28   \n",
       "4  2024-12-03 13:15:00               15             4.7    David Brown   27   \n",
       "\n",
       "   ...         Phone              Email Favorite Meal Total Orders Order ID  \\\n",
       "0  ...  123-456-7890    alice@email.com        Dinner           12     1001   \n",
       "1  ...  987-654-3210      bob@email.com         Lunch            8     1002   \n",
       "2  ...  555-123-4567  charlie@email.com     Breakfast           15     1003   \n",
       "3  ...  123-456-7890    alice@email.com        Dinner           12     1004   \n",
       "4  ...  444-333-2222    david@email.com        Dinner           10     1005   \n",
       "\n",
       "   Order Date  Order Status Amount (USD) Time of Day    Rating  \n",
       "0  2024-12-01     Completed         15.0       Night  5.000000  \n",
       "1  2024-12-01     Completed         10.0         Day  4.000000  \n",
       "2  2024-12-02      Canceled         12.5       Night  4.285714  \n",
       "3  2024-12-02     Completed          8.0     Morning  4.000000  \n",
       "4  2024-12-03     Completed          9.0         Day  4.000000  \n",
       "\n",
       "[5 rows x 22 columns]"
      ]
     },
     "execution_count": 2,
     "metadata": {},
     "output_type": "execute_result"
    }
   ],
   "source": [
    "# Load cleaned data\n",
    "\n",
    "data = pd.read_csv('cleaned_data.csv')\n",
    "data.head()"
   ]
  },
  {
   "cell_type": "markdown",
   "id": "36309832",
   "metadata": {},
   "source": [
    "## Step 1: Data Exploration"
   ]
  },
  {
   "cell_type": "code",
   "execution_count": 3,
   "id": "c5d8b541",
   "metadata": {},
   "outputs": [
    {
     "name": "stdout",
     "output_type": "stream",
     "text": [
      "<class 'pandas.core.frame.DataFrame'>\n",
      "RangeIndex: 16 entries, 0 to 15\n",
      "Data columns (total 22 columns):\n",
      " #   Column             Non-Null Count  Dtype  \n",
      "---  ------             --------------  -----  \n",
      " 0   Session ID         16 non-null     object \n",
      " 1   User ID            16 non-null     object \n",
      " 2   Dish Name          16 non-null     object \n",
      " 3   Meal Type          16 non-null     object \n",
      " 4   Session Start      16 non-null     object \n",
      " 5   Session End        16 non-null     object \n",
      " 6   Duration (mins)    16 non-null     int64  \n",
      " 7   Session Rating     16 non-null     float64\n",
      " 8   User Name          16 non-null     object \n",
      " 9   Age                16 non-null     int64  \n",
      " 10  Location           16 non-null     object \n",
      " 11  Registration Date  16 non-null     object \n",
      " 12  Phone              16 non-null     object \n",
      " 13  Email              16 non-null     object \n",
      " 14  Favorite Meal      16 non-null     object \n",
      " 15  Total Orders       16 non-null     int64  \n",
      " 16  Order ID           16 non-null     int64  \n",
      " 17  Order Date         16 non-null     object \n",
      " 18  Order Status       16 non-null     object \n",
      " 19  Amount (USD)       16 non-null     float64\n",
      " 20  Time of Day        16 non-null     object \n",
      " 21  Rating             16 non-null     float64\n",
      "dtypes: float64(3), int64(4), object(15)\n",
      "memory usage: 2.9+ KB\n"
     ]
    }
   ],
   "source": [
    "data.info()"
   ]
  },
  {
   "cell_type": "code",
   "execution_count": 4,
   "id": "5d5abc0e",
   "metadata": {},
   "outputs": [
    {
     "data": {
      "text/html": [
       "<div>\n",
       "<style scoped>\n",
       "    .dataframe tbody tr th:only-of-type {\n",
       "        vertical-align: middle;\n",
       "    }\n",
       "\n",
       "    .dataframe tbody tr th {\n",
       "        vertical-align: top;\n",
       "    }\n",
       "\n",
       "    .dataframe thead th {\n",
       "        text-align: right;\n",
       "    }\n",
       "</style>\n",
       "<table border=\"1\" class=\"dataframe\">\n",
       "  <thead>\n",
       "    <tr style=\"text-align: right;\">\n",
       "      <th></th>\n",
       "      <th>Duration (mins)</th>\n",
       "      <th>Session Rating</th>\n",
       "      <th>Age</th>\n",
       "      <th>Total Orders</th>\n",
       "      <th>Order ID</th>\n",
       "      <th>Amount (USD)</th>\n",
       "      <th>Rating</th>\n",
       "    </tr>\n",
       "  </thead>\n",
       "  <tbody>\n",
       "    <tr>\n",
       "      <th>count</th>\n",
       "      <td>16.000000</td>\n",
       "      <td>16.000000</td>\n",
       "      <td>16.000000</td>\n",
       "      <td>16.000000</td>\n",
       "      <td>16.000000</td>\n",
       "      <td>16.000000</td>\n",
       "      <td>16.000000</td>\n",
       "    </tr>\n",
       "    <tr>\n",
       "      <th>mean</th>\n",
       "      <td>30.312500</td>\n",
       "      <td>4.518750</td>\n",
       "      <td>32.687500</td>\n",
       "      <td>10.562500</td>\n",
       "      <td>1008.500000</td>\n",
       "      <td>11.250000</td>\n",
       "      <td>4.285714</td>\n",
       "    </tr>\n",
       "    <tr>\n",
       "      <th>std</th>\n",
       "      <td>10.873324</td>\n",
       "      <td>0.292617</td>\n",
       "      <td>5.839164</td>\n",
       "      <td>3.119161</td>\n",
       "      <td>4.760952</td>\n",
       "      <td>2.435843</td>\n",
       "      <td>0.436436</td>\n",
       "    </tr>\n",
       "    <tr>\n",
       "      <th>min</th>\n",
       "      <td>10.000000</td>\n",
       "      <td>4.000000</td>\n",
       "      <td>25.000000</td>\n",
       "      <td>5.000000</td>\n",
       "      <td>1001.000000</td>\n",
       "      <td>7.000000</td>\n",
       "      <td>4.000000</td>\n",
       "    </tr>\n",
       "    <tr>\n",
       "      <th>25%</th>\n",
       "      <td>20.000000</td>\n",
       "      <td>4.300000</td>\n",
       "      <td>28.000000</td>\n",
       "      <td>8.000000</td>\n",
       "      <td>1004.750000</td>\n",
       "      <td>9.000000</td>\n",
       "      <td>4.000000</td>\n",
       "    </tr>\n",
       "    <tr>\n",
       "      <th>50%</th>\n",
       "      <td>30.000000</td>\n",
       "      <td>4.550000</td>\n",
       "      <td>30.500000</td>\n",
       "      <td>10.000000</td>\n",
       "      <td>1008.500000</td>\n",
       "      <td>11.500000</td>\n",
       "      <td>4.000000</td>\n",
       "    </tr>\n",
       "    <tr>\n",
       "      <th>75%</th>\n",
       "      <td>40.000000</td>\n",
       "      <td>4.725000</td>\n",
       "      <td>35.750000</td>\n",
       "      <td>12.500000</td>\n",
       "      <td>1012.250000</td>\n",
       "      <td>13.125000</td>\n",
       "      <td>4.464286</td>\n",
       "    </tr>\n",
       "    <tr>\n",
       "      <th>max</th>\n",
       "      <td>45.000000</td>\n",
       "      <td>5.000000</td>\n",
       "      <td>42.000000</td>\n",
       "      <td>15.000000</td>\n",
       "      <td>1016.000000</td>\n",
       "      <td>15.000000</td>\n",
       "      <td>5.000000</td>\n",
       "    </tr>\n",
       "  </tbody>\n",
       "</table>\n",
       "</div>"
      ],
      "text/plain": [
       "       Duration (mins)  Session Rating        Age  Total Orders     Order ID  \\\n",
       "count        16.000000       16.000000  16.000000     16.000000    16.000000   \n",
       "mean         30.312500        4.518750  32.687500     10.562500  1008.500000   \n",
       "std          10.873324        0.292617   5.839164      3.119161     4.760952   \n",
       "min          10.000000        4.000000  25.000000      5.000000  1001.000000   \n",
       "25%          20.000000        4.300000  28.000000      8.000000  1004.750000   \n",
       "50%          30.000000        4.550000  30.500000     10.000000  1008.500000   \n",
       "75%          40.000000        4.725000  35.750000     12.500000  1012.250000   \n",
       "max          45.000000        5.000000  42.000000     15.000000  1016.000000   \n",
       "\n",
       "       Amount (USD)     Rating  \n",
       "count     16.000000  16.000000  \n",
       "mean      11.250000   4.285714  \n",
       "std        2.435843   0.436436  \n",
       "min        7.000000   4.000000  \n",
       "25%        9.000000   4.000000  \n",
       "50%       11.500000   4.000000  \n",
       "75%       13.125000   4.464286  \n",
       "max       15.000000   5.000000  "
      ]
     },
     "execution_count": 4,
     "metadata": {},
     "output_type": "execute_result"
    }
   ],
   "source": [
    "data.describe()"
   ]
  },
  {
   "cell_type": "markdown",
   "id": "7bf5d36c",
   "metadata": {},
   "source": [
    "## Step 2: Visualizations"
   ]
  },
  {
   "cell_type": "code",
   "execution_count": 5,
   "id": "86c42ceb",
   "metadata": {},
   "outputs": [
    {
     "data": {
      "text/plain": [
       "Dish Name\n",
       "Spaghetti          4\n",
       "Grilled Chicken    4\n",
       "Caesar Salad       3\n",
       "Pancakes           2\n",
       "Veggie Burger      2\n",
       "Oatmeal            1\n",
       "Name: count, dtype: int64"
      ]
     },
     "execution_count": 5,
     "metadata": {},
     "output_type": "execute_result"
    }
   ],
   "source": [
    "popular_dishes = data['Dish Name'].value_counts().head(10)\n",
    "popular_dishes"
   ]
  },
  {
   "cell_type": "code",
   "execution_count": 6,
   "id": "60d24a0f",
   "metadata": {},
   "outputs": [
    {
     "data": {
      "text/plain": [
       "array([4, 4, 3, 2, 2, 1], dtype=int64)"
      ]
     },
     "execution_count": 6,
     "metadata": {},
     "output_type": "execute_result"
    }
   ],
   "source": [
    "popular_dishes.values"
   ]
  },
  {
   "cell_type": "code",
   "execution_count": 7,
   "id": "91f97f83",
   "metadata": {},
   "outputs": [
    {
     "data": {
      "text/plain": [
       "Index(['Spaghetti', 'Grilled Chicken', 'Caesar Salad', 'Pancakes',\n",
       "       'Veggie Burger', 'Oatmeal'],\n",
       "      dtype='object', name='Dish Name')"
      ]
     },
     "execution_count": 7,
     "metadata": {},
     "output_type": "execute_result"
    }
   ],
   "source": [
    "popular_dishes.index"
   ]
  },
  {
   "cell_type": "code",
   "execution_count": 8,
   "id": "489671e7",
   "metadata": {},
   "outputs": [
    {
     "data": {
      "image/png": "[encoded data removed]",
      "text/plain": [
       "<Figure size 1000x600 with 1 Axes>"
      ]
     },
     "metadata": {},
     "output_type": "display_data"
    }
   ],
   "source": [
    "# 1️⃣ Top 10 Popular Dishes\n",
    "\n",
    "popular_dishes = data['Dish Name'].value_counts().head(10)\n",
    "\n",
    "plt.figure(figsize=(10, 6))\n",
    "sns.barplot(x = popular_dishes.values, y = popular_dishes.index, palette='viridis')\n",
    "plt.title('Top 10 Popular Dishes')\n",
    "plt.xlabel('Number of Orders')\n",
    "plt.ylabel('Dish Name')\n",
    "plt.savefig('popular_dishes.png')\n",
    "plt.show()"
   ]
  },
  {
   "cell_type": "code",
   "execution_count": 9,
   "id": "1aa23f5d",
   "metadata": {},
   "outputs": [
    {
     "data": {
      "image/png": "[encoded data removed]",
      "text/plain": [
       "<Figure size 1000x600 with 1 Axes>"
      ]
     },
     "metadata": {},
     "output_type": "display_data"
    }
   ],
   "source": [
    "# 2️⃣ User Engagement by Age\n",
    "\n",
    "plt.figure(figsize=(10, 6))\n",
    "sns.histplot(data['Age'], bins=20, kde=True, color='blue')\n",
    "plt.title('User Engagement by Age Distribution')\n",
    "plt.xlabel('Age')\n",
    "plt.ylabel('Count of Users')\n",
    "plt.savefig('user_engagement_by_age.png')\n",
    "plt.show()"
   ]
  },
  {
   "cell_type": "code",
   "execution_count": 10,
   "id": "9f3d778b",
   "metadata": {},
   "outputs": [
    {
     "data": {
      "text/plain": [
       "User ID\n",
       "U001    3\n",
       "U002    3\n",
       "U003    3\n",
       "U004    2\n",
       "U005    2\n",
       "U006    1\n",
       "U007    1\n",
       "U008    1\n",
       "Name: Order ID, dtype: int64"
      ]
     },
     "execution_count": 10,
     "metadata": {},
     "output_type": "execute_result"
    }
   ],
   "source": [
    "data.groupby('User ID')['Order ID'].nunique()"
   ]
  },
  {
   "cell_type": "code",
   "execution_count": 11,
   "id": "f0458445",
   "metadata": {},
   "outputs": [
    {
     "data": {
      "text/plain": [
       "User ID\n",
       "U001    3\n",
       "U002    3\n",
       "U003    3\n",
       "U004    2\n",
       "U005    2\n",
       "U006    1\n",
       "U007    1\n",
       "U008    1\n",
       "Name: Session ID, dtype: int64"
      ]
     },
     "execution_count": 11,
     "metadata": {},
     "output_type": "execute_result"
    }
   ],
   "source": [
    "data.groupby('User ID')['Session ID'].nunique()"
   ]
  },
  {
   "cell_type": "code",
   "execution_count": 19,
   "id": "6ed7412d",
   "metadata": {},
   "outputs": [
    {
     "data": {
      "text/plain": [
       "User ID\n",
       "U001    1.0\n",
       "U002    1.0\n",
       "U003    1.0\n",
       "U004    1.0\n",
       "U005    1.0\n",
       "U006    1.0\n",
       "U007    1.0\n",
       "U008    1.0\n",
       "dtype: float64"
      ]
     },
     "execution_count": 19,
     "metadata": {},
     "output_type": "execute_result"
    }
   ],
   "source": [
    "sessions_vs_orders = data.groupby('User ID')['Order ID'].nunique() / data.groupby('User ID')['Session ID'].nunique()\n",
    "sessions_vs_orders"
   ]
  },
  {
   "cell_type": "code",
   "execution_count": 20,
   "id": "bb5ef542",
   "metadata": {},
   "outputs": [
    {
     "data": {
      "text/html": [
       "<div>\n",
       "<style scoped>\n",
       "    .dataframe tbody tr th:only-of-type {\n",
       "        vertical-align: middle;\n",
       "    }\n",
       "\n",
       "    .dataframe tbody tr th {\n",
       "        vertical-align: top;\n",
       "    }\n",
       "\n",
       "    .dataframe thead th {\n",
       "        text-align: right;\n",
       "    }\n",
       "</style>\n",
       "<table border=\"1\" class=\"dataframe\">\n",
       "  <thead>\n",
       "    <tr style=\"text-align: right;\">\n",
       "      <th></th>\n",
       "      <th>User ID</th>\n",
       "      <th>Conversion Rate</th>\n",
       "    </tr>\n",
       "  </thead>\n",
       "  <tbody>\n",
       "    <tr>\n",
       "      <th>0</th>\n",
       "      <td>U001</td>\n",
       "      <td>1.0</td>\n",
       "    </tr>\n",
       "    <tr>\n",
       "      <th>1</th>\n",
       "      <td>U002</td>\n",
       "      <td>1.0</td>\n",
       "    </tr>\n",
       "    <tr>\n",
       "      <th>2</th>\n",
       "      <td>U003</td>\n",
       "      <td>1.0</td>\n",
       "    </tr>\n",
       "    <tr>\n",
       "      <th>3</th>\n",
       "      <td>U004</td>\n",
       "      <td>1.0</td>\n",
       "    </tr>\n",
       "    <tr>\n",
       "      <th>4</th>\n",
       "      <td>U005</td>\n",
       "      <td>1.0</td>\n",
       "    </tr>\n",
       "    <tr>\n",
       "      <th>5</th>\n",
       "      <td>U006</td>\n",
       "      <td>1.0</td>\n",
       "    </tr>\n",
       "    <tr>\n",
       "      <th>6</th>\n",
       "      <td>U007</td>\n",
       "      <td>1.0</td>\n",
       "    </tr>\n",
       "    <tr>\n",
       "      <th>7</th>\n",
       "      <td>U008</td>\n",
       "      <td>1.0</td>\n",
       "    </tr>\n",
       "  </tbody>\n",
       "</table>\n",
       "</div>"
      ],
      "text/plain": [
       "  User ID  Conversion Rate\n",
       "0    U001              1.0\n",
       "1    U002              1.0\n",
       "2    U003              1.0\n",
       "3    U004              1.0\n",
       "4    U005              1.0\n",
       "5    U006              1.0\n",
       "6    U007              1.0\n",
       "7    U008              1.0"
      ]
     },
     "execution_count": 20,
     "metadata": {},
     "output_type": "execute_result"
    }
   ],
   "source": [
    "sessions_vs_orders = sessions_vs_orders.dropna().reset_index(name='Conversion Rate')\n",
    "sessions_vs_orders"
   ]
  },
  {
   "cell_type": "code",
   "execution_count": 21,
   "id": "fa2e0970",
   "metadata": {},
   "outputs": [
    {
     "data": {
      "image/png": "[encoded data removed]",
      "text/plain": [
       "<Figure size 1000x600 with 1 Axes>"
      ]
     },
     "metadata": {},
     "output_type": "display_data"
    }
   ],
   "source": [
    "# 3️⃣ Cooking Sessions vs Orders\n",
    "\n",
    "sessions_vs_orders = data.groupby('User ID')['Order ID'].nunique() / data.groupby('User ID')['Session ID'].nunique()\n",
    "sessions_vs_orders = sessions_vs_orders.dropna().reset_index(name='Conversion Rate')\n",
    "\n",
    "plt.figure(figsize=(10, 6))\n",
    "sns.histplot(sessions_vs_orders['Conversion Rate'], bins=20, color='green')\n",
    "plt.title('Cooking Sessions to Orders Conversion Rate')\n",
    "plt.xlabel('Conversion Rate')\n",
    "plt.ylabel('Count of Users')\n",
    "plt.savefig('sessions_vs_orders.png')\n",
    "plt.show()"
   ]
  },
  {
   "cell_type": "code",
   "execution_count": 22,
   "id": "a95471b9",
   "metadata": {},
   "outputs": [
    {
     "data": {
      "text/html": [
       "<div>\n",
       "<style scoped>\n",
       "    .dataframe tbody tr th:only-of-type {\n",
       "        vertical-align: middle;\n",
       "    }\n",
       "\n",
       "    .dataframe tbody tr th {\n",
       "        vertical-align: top;\n",
       "    }\n",
       "\n",
       "    .dataframe thead th {\n",
       "        text-align: right;\n",
       "    }\n",
       "</style>\n",
       "<table border=\"1\" class=\"dataframe\">\n",
       "  <thead>\n",
       "    <tr style=\"text-align: right;\">\n",
       "      <th></th>\n",
       "      <th>Meal Type</th>\n",
       "      <th>Amount (USD)</th>\n",
       "    </tr>\n",
       "  </thead>\n",
       "  <tbody>\n",
       "    <tr>\n",
       "      <th>0</th>\n",
       "      <td>Breakfast</td>\n",
       "      <td>23.5</td>\n",
       "    </tr>\n",
       "    <tr>\n",
       "      <th>1</th>\n",
       "      <td>Dinner</td>\n",
       "      <td>106.5</td>\n",
       "    </tr>\n",
       "    <tr>\n",
       "      <th>2</th>\n",
       "      <td>Lunch</td>\n",
       "      <td>50.0</td>\n",
       "    </tr>\n",
       "  </tbody>\n",
       "</table>\n",
       "</div>"
      ],
      "text/plain": [
       "   Meal Type  Amount (USD)\n",
       "0  Breakfast          23.5\n",
       "1     Dinner         106.5\n",
       "2      Lunch          50.0"
      ]
     },
     "execution_count": 22,
     "metadata": {},
     "output_type": "execute_result"
    }
   ],
   "source": [
    "revenue_by_meal = data.groupby('Meal Type')['Amount (USD)'].sum().reset_index()\n",
    "revenue_by_meal"
   ]
  },
  {
   "cell_type": "code",
   "execution_count": 24,
   "id": "e2855390",
   "metadata": {},
   "outputs": [
    {
     "data": {
      "image/png": "[encoded data removed]",
      "text/plain": [
       "<Figure size 1000x600 with 1 Axes>"
      ]
     },
     "metadata": {},
     "output_type": "display_data"
    }
   ],
   "source": [
    "# 4️⃣ Revenue Insights by Meal Type\n",
    "\n",
    "revenue_by_meal = data.groupby('Meal Type')['Amount (USD)'].sum().reset_index()\n",
    "\n",
    "plt.figure(figsize=(10, 6))\n",
    "sns.barplot(x='Meal Type', y='Amount (USD)', data=revenue_by_meal, palette='magma')\n",
    "plt.title('Revenue by Meal Type')\n",
    "plt.xlabel('Meal Type')\n",
    "plt.ylabel('Revenue (USD)')\n",
    "plt.savefig('revenue_by_meal.png')\n",
    "plt.show()"
   ]
  },
  {
   "cell_type": "markdown",
   "id": "a6895e72",
   "metadata": {},
   "source": [
    "## Step 3: Business Insights"
   ]
  },
  {
   "cell_type": "code",
   "execution_count": 25,
   "id": "765a91bf",
   "metadata": {},
   "outputs": [
    {
     "name": "stdout",
     "output_type": "stream",
     "text": [
      "1️⃣ Top Dishes: Highlight and promote the most popular dishes to increase sales.\n",
      "2️⃣ User Segmentation: Target high-engagement age groups with promotions.\n",
      "3️⃣ Cooking-to-Order Conversion: Offer discounts or incentives to convert users from cooking to ordering.\n",
      "4️⃣ Revenue Insights: Focus advertising on meal types that generate the highest revenue.\n"
     ]
    }
   ],
   "source": [
    "print(\"1️⃣ Top Dishes: Highlight and promote the most popular dishes to increase sales.\")\n",
    "print(\"2️⃣ User Segmentation: Target high-engagement age groups with promotions.\")\n",
    "print(\"3️⃣ Cooking-to-Order Conversion: Offer discounts or incentives to convert users from cooking to ordering.\")\n",
    "print(\"4️⃣ Revenue Insights: Focus advertising on meal types that generate the highest revenue.\")\n"
   ]
  },
  {
   "cell_type": "code",
   "execution_count": null,
   "id": "0fd36cb3",
   "metadata": {},
   "outputs": [],
   "source": []
  }
 ],
 "metadata": {
  "kernelspec": {
   "display_name": "Python 3 (ipykernel)",
   "language": "python",
   "name": "python3"
  },
  "language_info": {
   "codemirror_mode": {
    "name": "ipython",
    "version": 3
   },
   "file_extension": ".py",
   "mimetype": "text/x-python",
   "name": "python",
   "nbconvert_exporter": "python",
   "pygments_lexer": "ipython3",
   "version": "3.11.7"
  },
  "varInspector": {
   "cols": {
    "lenName": 16,
    "lenType": 16,
    "lenVar": 40
   },
   "kernels_config": {
    "python": {
     "delete_cmd_postfix": "",
     "delete_cmd_prefix": "del ",
     "library": "var_list.py",
     "varRefreshCmd": "print(var_dic_list())"
    },
    "r": {
     "delete_cmd_postfix": ") ",
     "delete_cmd_prefix": "rm(",
     "library": "var_list.r",
     "varRefreshCmd": "cat(var_dic_list()) "
    }
   },
   "types_to_exclude": [
    "module",
    "function",
    "builtin_function_or_method",
    "instance",
    "_Feature"
   ],
   "window_display": false
  }
 },
 "nbformat": 4,
 "nbformat_minor": 5
}
